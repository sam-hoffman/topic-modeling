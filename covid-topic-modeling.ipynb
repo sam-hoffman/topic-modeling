{
 "cells": [
  {
   "cell_type": "code",
   "execution_count": 91,
   "metadata": {
    "ExecuteTime": {
     "end_time": "2020-05-17T17:21:35.828909Z",
     "start_time": "2020-05-17T17:21:35.820978Z"
    }
   },
   "outputs": [],
   "source": [
    "from gensim.corpora import Dictionary\n",
    "import pandas as pd\n",
    "from gensim.parsing.preprocessing import preprocess_string"
   ]
  },
  {
   "cell_type": "code",
   "execution_count": 92,
   "metadata": {
    "ExecuteTime": {
     "end_time": "2020-05-17T17:21:37.909260Z",
     "start_time": "2020-05-17T17:21:36.147914Z"
    }
   },
   "outputs": [],
   "source": [
    "# read with spark because of nested list column \n",
    "from pyspark.sql import SparkSession\n",
    "from pyspark.sql.functions import when\n",
    "\n",
    "spark = SparkSession.builder.getOrCreate()\n",
    "df = spark.read.parquet(\"long-parsed-tweets2\")"
   ]
  },
  {
   "cell_type": "code",
   "execution_count": 93,
   "metadata": {
    "ExecuteTime": {
     "end_time": "2020-05-17T17:24:11.791722Z",
     "start_time": "2020-05-17T17:21:37.913356Z"
    }
   },
   "outputs": [],
   "source": [
    "df = df.where(df.lang == \"en\").sample(0.1)\n",
    "df = df.withColumn(\"rt_indicator\", when(df.full_text.like(\"RT @%\"), 1).otherwise(0))\n",
    "pdf = df.toPandas()"
   ]
  },
  {
   "cell_type": "code",
   "execution_count": 94,
   "metadata": {
    "ExecuteTime": {
     "end_time": "2020-05-17T17:24:11.856529Z",
     "start_time": "2020-05-17T17:24:11.814631Z"
    }
   },
   "outputs": [],
   "source": [
    "import re\n",
    "def replace_entities(row):\n",
    "    mentions = row['mentions']\n",
    "    urls = row['urls']\n",
    "    tweet = row['full_text']\n",
    "    \n",
    "    mentions = ['@' + m for m in mentions.split(' ')]\n",
    "    for m in mentions:\n",
    "        if len(m) > 0:\n",
    "            tweet = tweet.replace(m, '@MENTION')\n",
    "        \n",
    "    urls = urls.split(' ')\n",
    "    for u in urls:\n",
    "        if len(u) > 0:\n",
    "            tweet = tweet.replace(u, '@URL')\n",
    "    http = re.compile(r'https?://\\S+')\n",
    "    tweet = http.sub('@URL', tweet)\n",
    "        \n",
    "    return tweet"
   ]
  },
  {
   "cell_type": "code",
   "execution_count": 95,
   "metadata": {
    "ExecuteTime": {
     "end_time": "2020-05-17T17:25:49.173414Z",
     "start_time": "2020-05-17T17:24:11.874345Z"
    }
   },
   "outputs": [],
   "source": [
    "pdf['cleaned_text'] = pdf.apply(replace_entities, axis=1)"
   ]
  },
  {
   "cell_type": "code",
   "execution_count": 96,
   "metadata": {
    "ExecuteTime": {
     "end_time": "2020-05-17T17:28:27.189563Z",
     "start_time": "2020-05-17T17:25:49.181892Z"
    }
   },
   "outputs": [],
   "source": [
    "from demoji import replace\n",
    "import re\n",
    "from gensim.parsing.preprocessing import strip_multiple_whitespaces, remove_stopwords\n",
    "from gensim.utils import to_unicode\n",
    "from nltk.stem.snowball import SnowballStemmer\n",
    "from nltk.corpus import stopwords\n",
    "from gensim.parsing.preprocessing import STOPWORDS\n",
    "\n",
    "STOPWORDS = STOPWORDS.union(stopwords.words('english')).union(set('&amp;'))\n",
    "def my_remove_stopwords(s):\n",
    "    s = to_unicode(s)\n",
    "    s = s.lower()\n",
    "    return \" \".join(w for w in s.split() if w not in STOPWORDS)\n",
    "\n",
    "def replacer(string):\n",
    "    string = string.replace(\"-\", \"\")\n",
    "    string = string.replace(\"RT \", \"\")\n",
    "    handles_and_hashtags = re.compile(r\"[^\\w\\d#@\\s]+\")\n",
    "    string =  handles_and_hashtags.sub('', string)\n",
    "    return string\n",
    "\n",
    "def ignore_stemmer(token_list):\n",
    "    stemmed_list = []\n",
    "    for t in token_list:\n",
    "        if not t.startswith(\"@\") and not t.startswith(\"#\"):\n",
    "            t = SnowballStemmer(\"english\").stem(t)\n",
    "        stemmed_list.append(t)\n",
    "    return stemmed_list\n",
    "\n",
    "custom_filters = [\n",
    "                  strip_multiple_whitespaces,\n",
    "                  replacer,\n",
    "                  my_remove_stopwords\n",
    "                 ]\n",
    "pdf['cleaned_text'] = pdf.cleaned_text.apply(preprocess_string, filters=custom_filters)\n",
    "\n",
    "def further_replacer(text_list):\n",
    "    numbers = re.compile(r\"\\d+\")\n",
    "    new_text_list = []\n",
    "    for w in text_list:\n",
    "        if w == '@url':\n",
    "            new_text_list.append('@URL')\n",
    "            continue\n",
    "            \n",
    "        if w == '@mention':\n",
    "            new_text_list.append('@MENTION')\n",
    "            continue\n",
    "            \n",
    "        if numbers.match(w):\n",
    "            new_text_list.append('@NUMBER')\n",
    "            continue\n",
    "            \n",
    "        else:\n",
    "            new_text_list.append(w)\n",
    "    \n",
    "    return new_text_list\n",
    "\n",
    "pdf['cleaned_text'] = pdf.cleaned_text.apply(further_replacer)"
   ]
  },
  {
   "cell_type": "code",
   "execution_count": 97,
   "metadata": {
    "ExecuteTime": {
     "end_time": "2020-05-17T17:33:58.578710Z",
     "start_time": "2020-05-17T17:28:27.275214Z"
    }
   },
   "outputs": [],
   "source": [
    "pdf['cleaned_text'] = pdf.cleaned_text.apply(ignore_stemmer)"
   ]
  },
  {
   "cell_type": "code",
   "execution_count": 98,
   "metadata": {
    "ExecuteTime": {
     "end_time": "2020-05-17T17:38:05.939421Z",
     "start_time": "2020-05-17T17:33:58.593926Z"
    }
   },
   "outputs": [],
   "source": [
    "pdf[\"created_at\"] = pd.to_datetime(pdf.created_at)"
   ]
  },
  {
   "cell_type": "code",
   "execution_count": 99,
   "metadata": {
    "ExecuteTime": {
     "end_time": "2020-05-17T17:40:56.040137Z",
     "start_time": "2020-05-17T17:38:05.993235Z"
    }
   },
   "outputs": [],
   "source": [
    "# need to confirm it's right to do dict with full text but other things not with it \n",
    "dictionary = Dictionary(pdf.cleaned_text.to_list())\n",
    "\n",
    "training_df = pdf[pdf.rt_indicator == 0]\n",
    "\n",
    "training_docs = training_df.cleaned_text.to_list()\n",
    "training_corpus = [dictionary.doc2bow(tweet) for tweet in training_docs]\n",
    "\n",
    "full_docs = pdf.cleaned_text.to_list()\n",
    "full_corpus = [dictionary.doc2bow(tweet) for tweet in full_docs]\n",
    "\n"
   ]
  },
  {
   "cell_type": "code",
   "execution_count": 100,
   "metadata": {
    "ExecuteTime": {
     "end_time": "2020-05-17T17:43:21.873207Z",
     "start_time": "2020-05-17T17:40:56.107756Z"
    }
   },
   "outputs": [],
   "source": [
    "from gensim.models import ldamulticore\n",
    "# main hyperparameter is number of topics, 10 may be too little, try 50 or 100 for this random sample dataset\n",
    "# for coronavirus themed tweets, we could do fewer topics \n",
    "\n",
    "# Set training parameters.\n",
    "# try different number of topics\n",
    "num_topics = 10\n",
    "chunksize = 2000 # number of documents passed to a core\n",
    "\n",
    "# use defaults for iterations and passes and see if modeling is good\n",
    "passes = 20 # number of passes through corpus\n",
    "iterations = 400 # could make 100 for coronavirus tweets, but could reduce for faster development iterations \n",
    "eval_every = None  # Don't evaluate model perplexity, takes too much time.\n",
    "\n",
    "# Make a index to word dictionary.\n",
    "temp = dictionary[0]  # This is only to \"load\" the dictionary.\n",
    "id2word = dictionary.id2token\n",
    "\n",
    "model = ldamulticore.LdaMulticore(\n",
    "    corpus=training_corpus,\n",
    "    id2word=id2word,\n",
    "    chunksize=chunksize,\n",
    "    eta='auto',\n",
    "    iterations=400,\n",
    "    num_topics=50,\n",
    "    eval_every=eval_every\n",
    ")"
   ]
  },
  {
   "cell_type": "code",
   "execution_count": 101,
   "metadata": {
    "ExecuteTime": {
     "end_time": "2020-05-17T17:43:28.936614Z",
     "start_time": "2020-05-17T17:43:21.883273Z"
    }
   },
   "outputs": [],
   "source": [
    "top_topics = model.top_topics(training_corpus)"
   ]
  },
  {
   "cell_type": "code",
   "execution_count": 103,
   "metadata": {
    "ExecuteTime": {
     "end_time": "2020-05-17T18:30:17.794736Z",
     "start_time": "2020-05-17T18:08:50.616615Z"
    }
   },
   "outputs": [],
   "source": [
    "topics = []\n",
    "for i in range(len(full_corpus)):\n",
    "    topics.append(model.get_document_topics(full_corpus[i], minimum_probability=0.0))"
   ]
  },
  {
   "cell_type": "code",
   "execution_count": 104,
   "metadata": {
    "ExecuteTime": {
     "end_time": "2020-05-17T18:33:05.397121Z",
     "start_time": "2020-05-17T18:30:17.952514Z"
    }
   },
   "outputs": [],
   "source": [
    "probabilities = []\n",
    "for t in topics:\n",
    "    p = list(zip(*t))[1]\n",
    "    probabilities.append(p)"
   ]
  },
  {
   "cell_type": "code",
   "execution_count": 105,
   "metadata": {
    "ExecuteTime": {
     "end_time": "2020-05-17T18:33:46.816802Z",
     "start_time": "2020-05-17T18:33:05.471538Z"
    }
   },
   "outputs": [],
   "source": [
    "pdf['topics'] = probabilities"
   ]
  },
  {
   "cell_type": "code",
   "execution_count": 106,
   "metadata": {
    "ExecuteTime": {
     "end_time": "2020-05-17T18:33:47.060807Z",
     "start_time": "2020-05-17T18:33:46.856319Z"
    }
   },
   "outputs": [],
   "source": [
    "from scipy.stats import entropy\n",
    "import math\n",
    "\n",
    "def calculate_perplexity(probability_list):\n",
    "    return math.exp(entropy(probability_list))"
   ]
  },
  {
   "cell_type": "code",
   "execution_count": 107,
   "metadata": {
    "ExecuteTime": {
     "end_time": "2020-05-17T18:34:38.356663Z",
     "start_time": "2020-05-17T18:33:47.094426Z"
    }
   },
   "outputs": [],
   "source": [
    "pdf['perplexity'] = pdf['topics'].apply(calculate_perplexity)"
   ]
  },
  {
   "cell_type": "code",
   "execution_count": 108,
   "metadata": {
    "ExecuteTime": {
     "end_time": "2020-05-17T18:34:44.627904Z",
     "start_time": "2020-05-17T18:34:38.370663Z"
    }
   },
   "outputs": [
    {
     "data": {
      "text/plain": [
       "<matplotlib.axes._subplots.AxesSubplot at 0x22503e2d0>"
      ]
     },
     "execution_count": 108,
     "metadata": {},
     "output_type": "execute_result"
    },
    {
     "data": {
      "image/png": "[encoded data removed]",
      "text/plain": [
       "<Figure size 432x288 with 1 Axes>"
      ]
     },
     "metadata": {
      "needs_background": "light"
     },
     "output_type": "display_data"
    }
   ],
   "source": [
    "import seaborn as sns\n",
    "sns.distplot(pdf['perplexity'])"
   ]
  },
  {
   "cell_type": "code",
   "execution_count": 109,
   "metadata": {
    "ExecuteTime": {
     "end_time": "2020-05-17T18:35:44.959152Z",
     "start_time": "2020-05-17T18:34:44.631681Z"
    }
   },
   "outputs": [],
   "source": [
    "# throw away tweets with perplexity too high\n",
    "unperplexed = pdf[pdf['perplexity'] < 10]"
   ]
  },
  {
   "cell_type": "code",
   "execution_count": 110,
   "metadata": {
    "ExecuteTime": {
     "end_time": "2020-05-17T18:36:28.997144Z",
     "start_time": "2020-05-17T18:35:45.008018Z"
    }
   },
   "outputs": [
    {
     "name": "stderr",
     "output_type": "stream",
     "text": [
      "/Users/samanthahoffman/miniconda3/envs/covid-tweets/lib/python3.7/site-packages/ipykernel_launcher.py:2: SettingWithCopyWarning: \n",
      "A value is trying to be set on a copy of a slice from a DataFrame.\n",
      "Try using .loc[row_indexer,col_indexer] = value instead\n",
      "\n",
      "See the caveats in the documentation: https://pandas.pydata.org/pandas-docs/stable/user_guide/indexing.html#returning-a-view-versus-a-copy\n",
      "  \n",
      "/Users/samanthahoffman/miniconda3/envs/covid-tweets/lib/python3.7/site-packages/ipykernel_launcher.py:3: SettingWithCopyWarning: \n",
      "A value is trying to be set on a copy of a slice from a DataFrame.\n",
      "Try using .loc[row_indexer,col_indexer] = value instead\n",
      "\n",
      "See the caveats in the documentation: https://pandas.pydata.org/pandas-docs/stable/user_guide/indexing.html#returning-a-view-versus-a-copy\n",
      "  This is separate from the ipykernel package so we can avoid doing imports until\n"
     ]
    }
   ],
   "source": [
    "import numpy as np\n",
    "unperplexed['top_topic'] = pdf['topics'].apply(np.argmax)\n",
    "unperplexed['top_topic_prob'] = pdf['topics'].apply(max)"
   ]
  },
  {
   "cell_type": "code",
   "execution_count": 111,
   "metadata": {
    "ExecuteTime": {
     "end_time": "2020-05-17T18:40:06.831960Z",
     "start_time": "2020-05-17T18:36:29.006470Z"
    }
   },
   "outputs": [],
   "source": [
    "unperplexed.to_csv(\"50_topic_model_round_3.csv\")"
   ]
  },
  {
   "cell_type": "code",
   "execution_count": 112,
   "metadata": {
    "ExecuteTime": {
     "end_time": "2020-05-17T19:05:46.898429Z",
     "start_time": "2020-05-17T18:40:06.862424Z"
    },
    "scrolled": true
   },
   "outputs": [],
   "source": [
    "text_dict = {}\n",
    "for i in range(50):\n",
    "    ordered = unperplexed.loc[unperplexed.topics.apply(lambda x: x[i]).sort_values(ascending = False).index]\n",
    "    text_dict[i] = list(ordered.full_text.unique()[:10])"
   ]
  },
  {
   "cell_type": "code",
   "execution_count": 113,
   "metadata": {
    "ExecuteTime": {
     "end_time": "2020-05-17T19:05:47.387890Z",
     "start_time": "2020-05-17T19:05:46.986656Z"
    },
    "scrolled": false
   },
   "outputs": [],
   "source": [
    "import json\n",
    "with open(\"50_topics_tweets_round_3.json\", \"w\") as f:\n",
    "    f.write(json.dumps(text_dict, indent = 2, ensure_ascii = False))"
   ]
  }
 ],
 "metadata": {
  "kernelspec": {
   "display_name": "Python 3",
   "language": "python",
   "name": "python3"
  },
  "language_info": {
   "codemirror_mode": {
    "name": "ipython",
    "version": 3
   },
   "file_extension": ".py",
   "mimetype": "text/x-python",
   "name": "python",
   "nbconvert_exporter": "python",
   "pygments_lexer": "ipython3",
   "version": "3.7.6"
  }
 },
 "nbformat": 4,
 "nbformat_minor": 4
}
