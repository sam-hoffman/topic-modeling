{
 "cells": [
  {
   "cell_type": "code",
   "execution_count": 1,
   "metadata": {
    "ExecuteTime": {
     "end_time": "2020-05-17T18:10:45.848196Z",
     "start_time": "2020-05-17T18:10:35.467274Z"
    }
   },
   "outputs": [],
   "source": [
    "from pyspark.sql import SparkSession\n",
    "spark = SparkSession.builder.getOrCreate()"
   ]
  },
  {
   "cell_type": "code",
   "execution_count": 2,
   "metadata": {
    "ExecuteTime": {
     "end_time": "2020-05-17T18:10:45.869025Z",
     "start_time": "2020-05-17T18:10:45.850412Z"
    }
   },
   "outputs": [],
   "source": [
    "from pyspark.sql.functions import element_at, col, coalesce, length, max as max_, concat_ws"
   ]
  },
  {
   "cell_type": "code",
   "execution_count": 3,
   "metadata": {
    "ExecuteTime": {
     "end_time": "2020-05-17T18:19:02.641636Z",
     "start_time": "2020-05-17T18:10:45.872941Z"
    }
   },
   "outputs": [],
   "source": [
    "df = spark.read.json(\"compressed_tweets/*\")"
   ]
  },
  {
   "cell_type": "code",
   "execution_count": 4,
   "metadata": {
    "ExecuteTime": {
     "end_time": "2020-05-17T18:19:03.075539Z",
     "start_time": "2020-05-17T18:19:02.645019Z"
    }
   },
   "outputs": [
    {
     "data": {
      "text/plain": [
       "Row(full_text=\"RT @ikaveri: Here's an unexpected side effect of the pandemic - the water's flowing through the canals of Venice is clear for the first tim…\")"
      ]
     },
     "execution_count": 4,
     "metadata": {},
     "output_type": "execute_result"
    }
   ],
   "source": [
    "df.select('full_text').head()"
   ]
  },
  {
   "cell_type": "code",
   "execution_count": 5,
   "metadata": {
    "ExecuteTime": {
     "end_time": "2020-05-17T18:19:03.330885Z",
     "start_time": "2020-05-17T18:19:03.077291Z"
    },
    "scrolled": false
   },
   "outputs": [],
   "source": [
    "df = df.withColumn(\"mentions\", concat_ws(\" \", col(\"entities.user_mentions.screen_name\")))\n",
    "df = df.withColumn(\"hashtags\", concat_ws(\" \", \"entities.hashtags.text\"))\n",
    "df = df.withColumn(\"urls\", concat_ws(\" \", \"entities.urls.display_url\"))"
   ]
  },
  {
   "cell_type": "code",
   "execution_count": 6,
   "metadata": {
    "ExecuteTime": {
     "end_time": "2020-05-17T18:19:03.553064Z",
     "start_time": "2020-05-17T18:19:03.333034Z"
    }
   },
   "outputs": [],
   "source": [
    "df = df.where(df.lang.isin({\"en\", \"tr\", \"fr\"}))"
   ]
  },
  {
   "cell_type": "code",
   "execution_count": 7,
   "metadata": {
    "ExecuteTime": {
     "end_time": "2020-05-17T18:19:03.611954Z",
     "start_time": "2020-05-17T18:19:03.557042Z"
    }
   },
   "outputs": [],
   "source": [
    "df = df.select(          \n",
    "              \"created_at\",\n",
    "              \"full_text\",\n",
    "              \"lang\",\n",
    "              \"favorite_count\", \n",
    "              \"retweet_count\", \n",
    "              \"place.country\", \n",
    "              \"place.place_type\", \n",
    "              \"place.full_name\",\n",
    "              \"mentions\",\n",
    "              \"urls\",\n",
    "              \"hashtags\"\n",
    ")"
   ]
  },
  {
   "cell_type": "code",
   "execution_count": 20,
   "metadata": {
    "ExecuteTime": {
     "end_time": "2020-05-17T18:42:06.733586Z",
     "start_time": "2020-05-17T18:37:03.132141Z"
    }
   },
   "outputs": [],
   "source": [
    "# write json\n",
    "df.write.json(\"parsed_tweets3\")"
   ]
  },
  {
   "cell_type": "code",
   "execution_count": 26,
   "metadata": {
    "ExecuteTime": {
     "end_time": "2020-05-17T18:45:27.250970Z",
     "start_time": "2020-05-17T18:45:10.411332Z"
    }
   },
   "outputs": [],
   "source": [
    "# test reading with pandas\n",
    "import pandas as pd\n",
    "test_df = pd.read_json(\"parsed_tweets3/part-00000-1d9e27cf-c47e-43c5-b56c-c3c8448494c4-c000.json\", lines = True)"
   ]
  }
 ],
 "metadata": {
  "kernelspec": {
   "display_name": "Python 3",
   "language": "python",
   "name": "python3"
  },
  "language_info": {
   "codemirror_mode": {
    "name": "ipython",
    "version": 3
   },
   "file_extension": ".py",
   "mimetype": "text/x-python",
   "name": "python",
   "nbconvert_exporter": "python",
   "pygments_lexer": "ipython3",
   "version": "3.7.7"
  }
 },
 "nbformat": 4,
 "nbformat_minor": 2
}
