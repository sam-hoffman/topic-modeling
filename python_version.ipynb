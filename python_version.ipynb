{
 "cells": [
  {
   "cell_type": "code",
   "execution_count": null,
   "metadata": {
    "collapsed": true
   },
   "outputs": [],
   "source": [
    "import json\n",
    "import os\n",
    "import bz2\n",
    "import shutil"
   ]
  },
  {
   "cell_type": "code",
   "execution_count": null,
   "metadata": {
    "collapsed": true
   },
   "outputs": [],
   "source": [
    "def parse_tweet(tweet_json):\n",
    "    #need to confirm actually pulling full text ???\n",
    "    lang = tweet_json.get(\"lang\")\n",
    "    if lang in [\"en\", \"tr\", \"fr\"]:\n",
    "        extended = tweet_json.get(\"extended_tweet\")\n",
    "        if extended:\n",
    "            full_text = extended.get(\"full_text\")\n",
    "            if full_text: \n",
    "                return {'text' : full_text}\n",
    "        else:\n",
    "            text = tweet_json.get(\"text\")\n",
    "            return {\"text\" : text}"
   ]
  },
  {
   "cell_type": "code",
   "execution_count": null,
   "metadata": {
    "collapsed": true
   },
   "outputs": [],
   "source": [
    "def parse_folder(folder_name, outfile):\n",
    "    for f in os.listdir(\"tweet_dir/\" + folder_name + \"/\"):\n",
    "        if f == '.DS_Store':\n",
    "            continue\n",
    "        else:\n",
    "            opened = bz2.open(\"tweet_dir/\" + folder_name + \"/\" + f)\n",
    "            for l in opened:\n",
    "                tweet = json.loads(l)\n",
    "                text = parse_tweet(tweet)\n",
    "                if text:\n",
    "                    with open(outfile, \"a\") as f:\n",
    "                        f.write(json.dumps(text))\n",
    "        "
   ]
  },
  {
   "cell_type": "code",
   "execution_count": null,
   "metadata": {
    "scrolled": true
   },
   "outputs": [],
   "source": [
    "for f in os.listdir(\"tweet_dir\"):\n",
    "    print(f)\n",
    "    if f == '.DS_Store':\n",
    "        continue\n",
    "    parse_folder(f, \"texts.json\")"
   ]
  }
 ],
 "metadata": {
  "kernelspec": {
   "display_name": "Python 3",
   "language": "python",
   "name": "python3"
  },
  "language_info": {
   "codemirror_mode": {
    "name": "ipython",
    "version": 3
   },
   "file_extension": ".py",
   "mimetype": "text/x-python",
   "name": "python",
   "nbconvert_exporter": "python",
   "pygments_lexer": "ipython3",
   "version": "3.6.10"
  }
 },
 "nbformat": 4,
 "nbformat_minor": 2
}
